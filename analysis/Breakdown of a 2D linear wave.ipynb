{
 "metadata": {
  "name": "",
  "signature": "sha256:543243779017007374c41becb9be4fa3750208daf91054ca99b6956d1efeace4"
 },
 "nbformat": 3,
 "nbformat_minor": 0,
 "worksheets": [
  {
   "cells": [
    {
     "cell_type": "heading",
     "level": 1,
     "metadata": {},
     "source": [
      "Comparison to 1D"
     ]
    },
    {
     "cell_type": "markdown",
     "metadata": {},
     "source": [
      "Carrying out the same steps as I did for breakdown of a 1D wave, I need to find:\n",
      "\n",
      "- The fraction of particles that leave the wave over one lattice cell, so that I can find the density for the next cell\n",
      "- The total time spent in the cell by all particles, so that I can find the chemical gradient in the next cell\n",
      "\n",
      "In 1D this was easy, because due to the assumption of a low tumble rate (because we're close to the stable wave limit) there was one type of event that took particles away -- a single tumble, to the opposite direction, at some place in the lattice cell:\n",
      "\n",
      "- The lost wave fraction is simply half the fraction that tumble anywhere in the cell\n",
      "- The time spent in a cell is simply the wave crossing time for both tumbling and non-tumbling cells, due to the symmetric distribution of single-tumble events (see other notebook for elaboration)\n",
      "\n",
      "This also means that there isn't really a 'broadening' of the wave, since the two populations (wave and back-tumbling) are travelling in opposite directions. (Of course in 1D at some point we aren't close to the stable wave limit, so multiple tumbles then *can* happen, and non-negligible broadening can then occur because the particle behaviour goes from being ballistic to diffusive.)"
     ]
    },
    {
     "cell_type": "heading",
     "level": 1,
     "metadata": {},
     "source": [
      "Extension to 2D"
     ]
    },
    {
     "cell_type": "markdown",
     "metadata": {},
     "source": [
      "In this case, even assuming a low tumble rate there is a broadening effect, because a particle's initial wave-directed velocity can 'diffuse' into the other dimension through tumbling, meaning the wave-directed velocity component can take a continuous range of values ($\\cos(\\theta)$ rather than $\\pm 1$).\n",
      "\n",
      "This also means that we can't assume a maximum of a single tumble over a cell, because there's a probability that all the velocity is transferred to the transverse direction, meaning the particle tumbles to be perpendicular to the wave. This means that the time spent in the cell diverges. We need to consider multiple tumbles to rectify this.\n",
      "\n",
      "Put more mathematically, in 2D tumbling picks a new direction from a uniform distribution of $\\theta$ on $[-pi..\\pi]$, which then gives a speed in the wave propagation direction of $\\cos(\\theta)$. The time until intersection with the cell's wave-directed edge is proportional to $\\dfrac{1}{\\cos(\\theta)}$.\n",
      "\n",
      "This time diverges for $\\theta = \\pm \\dfrac{\\pi}{2}$, so the equivalent calculation assuming one tumble gives an infinite time spent in the cell."
     ]
    },
    {
     "cell_type": "heading",
     "level": 1,
     "metadata": {},
     "source": [
      "Treating the problem as a random walk"
     ]
    },
    {
     "cell_type": "markdown",
     "metadata": {},
     "source": [
      "*Note 1 for later* Because the cell's tumble rate is dependent on its direction relative to the wave, the step length isn't even $\\cos(\\theta)$ distributed; it's something more complicated which I should think about.\n",
      "\n",
      "*Note 2 for later* I've assumed that we're doing a random walk with a deterministic step length, but actually in simulations it's done stochastically. Hopefully this doesn't matter but it's something I should bear in mind.\n",
      "\n",
      "Instead of assuming a single tumble event, I'm going to assume a fraction $(1 - \\alpha t_k)$ cross the cell without tumbling, and contribute $t_k$ to the total time spent in the cell.\n",
      "\n",
      "Then consider that the fraction that tumble are doing a 2D random walk from the position they tumble.\n",
      "\n",
      "Then I can integrate over the lattice cell, and at each point find the time when the particles which first tumble here collide with *either* cell boundary on average.\n",
      "\n",
      "So the problem I have is a random walk in continuous space, and continuous time, with step lengths picked from some distribution, with fixed absorbing boundaries at asymmetric distances from the starting point.\n",
      "\n",
      "I'm going to consider here that the distribution is $\\cos(\\theta)$, with $\\theta \\in [-\\pi..\\pi]$, but actually it's something more complicated due to chemotaxis (see note at top). This is the case for no chemotaxis (or the limit of weak chemotaxis if you'd prefer).\n",
      "\n",
      "A useful thing to know is the long-time mean squared displacement of a random walk picking from this distribution.\n",
      "\n",
      "The mean squared displacement of a 1D walk is $\\langle r^2 \\rangle = n \\mathrm{E}(Z^2)$, where $Z$ is the step size distribution.\n",
      "\n",
      "$\\mathrm{E}(Z^2) = \\int_{-\\pi}^\\pi \\cos^2(\\theta) \\, \\mathrm{d} \\theta = \\int_{-\\pi}^\\pi \\cos^2(\\theta) \\, \\mathrm{d} \\theta = \\dfrac{1}{2}$\n",
      "\n",
      "$\\langle r^2 \\rangle = \\dfrac{n}{2}$\n",
      "\n",
      "compared with a 'classic' random walk,\n",
      "\n",
      "$\\mathrm{E}(Z^2) = \\dfrac{1}{2} \\left((1)^2 + (-1)^2 \\right) = 1$\n",
      "\n",
      "$\\langle r^2 \\rangle = n$"
     ]
    },
    {
     "cell_type": "heading",
     "level": 2,
     "metadata": {},
     "source": [
      "Step distribution"
     ]
    },
    {
     "cell_type": "markdown",
     "metadata": {},
     "source": [
      "So the step length is distributed as,\n",
      "\n",
      "$d(\\theta) = \\dfrac{v}{\\alpha_0 (1 - m \\cos(\\theta))}$\n",
      "\n",
      "We can assume that within a cell, $m$ is constant.\n",
      "\n",
      "$d(\\theta) = d_0 \\dfrac{1}{1 - m \\cos(\\theta)}$\n",
      "\n",
      "$d_0 = \\dfrac{v}{\\alpha_0}$\n",
      "\n",
      "But what we care about is the step length in the wave-directed direction.\n",
      "\n",
      "$d_x(\\theta) = d_0 \\dfrac{\\cos(\\theta)}{1 - m \\cos(\\theta)}$\n",
      "\n",
      "So chemotaxis makes steps along the wave *even longer*, and steps transverse to it *even shorter*.\n",
      "\n",
      "This is the way in which chemotaxis stabilises a wave."
     ]
    },
    {
     "cell_type": "heading",
     "level": 2,
     "metadata": {},
     "source": [
      "Effect of heterogeneous particle distribution across the cavity"
     ]
    },
    {
     "cell_type": "markdown",
     "metadata": {},
     "source": [
      "For the wave density to be above the stability limit *on average*, the density must be on average $\\rho_\\mathrm{n}$ at every lattice point in an initial thin line. Essentially the $\\mathrm{n}$ requirement in 1D becomes $\\mathrm{n} \\mathrm{M}_y$, where $\\mathrm{M}_y$ is the number of lattice points in the direction perpendicular to the wave propagation direction.\n",
      "\n",
      "$\\mathrm{M}_y = \\dfrac{L_y}{\\Delta x}$\n",
      "\n",
      "If we have $\\mathrm{n}$ points distributed uniformly between $\\mathrm{M}_y$ boxes, the mean number in each box is $\\dfrac{\\mathrm{n}}{\\mathrm{M}_y}$, and the variance I think on this also $\\dfrac{\\mathrm{n}}{\\mathrm{M}_y}$ since I think this should obey a Poisson distribution.\n",
      "\n",
      "So the mean density and its variance are both $\\dfrac{\\mathrm{n}}{\\mathrm{M}_y (\\Delta x)^2}$.\n",
      "\n",
      "Perhaps we can use knowledge of the noise in the distribution, to estimate the expected variation in drift speed across the wave.\n",
      "\n",
      "This may give us an estimate of the spontaneously imposed *transverse* gradient.\n",
      "\n",
      "Maybe from this we can get an idea of if and when a 2D wave becomes unstable due to these transverse gradients.\n",
      "\n",
      "Could maybe do this by taking two adjacent cells in the cavity, and look at the average difference in the initial condition, $\\rho_\\mathrm{n,0}$."
     ]
    },
    {
     "cell_type": "code",
     "collapsed": false,
     "input": [
      "L_y = 1.0\n",
      "M = L_y / dx\n",
      "\n",
      "n = 1000\n",
      "n_per_lp = n / M\n",
      "rho_2d = n_per_lp / dx ** 2\n",
      "\n",
      "print(stability_factor(d=2, dx=dx, v=v, rho=rho_2d, gamma=gamma, chi=1.0))"
     ],
     "language": "python",
     "metadata": {},
     "outputs": []
    }
   ],
   "metadata": {}
  }
 ]
}