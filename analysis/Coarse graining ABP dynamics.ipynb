{
 "metadata": {
  "name": "",
  "signature": "sha256:0bcd6c87b1fa34f81d9702ab5795a61b27c067da161382b9d381c1490192fdf9"
 },
 "nbformat": 3,
 "nbformat_minor": 0,
 "worksheets": [
  {
   "cells": [
    {
     "cell_type": "heading",
     "level": 1,
     "metadata": {},
     "source": [
      "PDE"
     ]
    },
    {
     "cell_type": "markdown",
     "metadata": {},
     "source": [
      "Davide has given me two sets of PDEs which express the dynamics of ABPs:\n",
      "\n",
      "$\\partial_t \\rho = -\\mathrm{v} \\nabla \\cdot (\\rho \\mathbf{p})$\n",
      "\n",
      "$\\partial_t \\rho \\mathbf{p} = -\\mathrm{D} \\rho \\mathbf{p} - \\dfrac{\\mathrm{v}}{2} \\nabla \\rho$\n",
      "\n",
      "The factors of $\\rho$ make the units work.\n",
      "\n",
      "Defining $\\mathbf{w} = \\rho \\mathbf{p}$,\n",
      "\n",
      "$\\partial_t \\rho = -\\mathrm{v} \\nabla \\cdot \\mathbf{w}$\n",
      "\n",
      "$\\partial_t \\mathbf{w} = -\\mathrm{D} \\mathbf{w} - \\dfrac{\\mathrm{v}}{2} \\nabla \\rho$\n"
     ]
    }
   ],
   "metadata": {}
  }
 ]
}