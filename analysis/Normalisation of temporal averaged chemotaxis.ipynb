{
 "metadata": {
  "name": "",
  "signature": "sha256:f7fab14a5512b82f5377087b8f17ed24b3a97283110812a02cb2b15261cc1f85"
 },
 "nbformat": 3,
 "nbformat_minor": 0,
 "worksheets": [
  {
   "cells": [
    {
     "cell_type": "heading",
     "level": 1,
     "metadata": {},
     "source": [
      "Spatial chemotaxis"
     ]
    },
    {
     "cell_type": "markdown",
     "metadata": {},
     "source": [
      "Have a motile particle with speed $v$ and orientation $\\mathbf{u}$, with speed $\\mathbf{v}$\n",
      "\n",
      "We measure the motile particle's fitness, $f$, by a measure of how close it is to the direction of greatest concentration increase,\n",
      "\n",
      "$f = \\chi \\dfrac{\\dot{c}}{v}$\n",
      "\n",
      "$\\dot{c} = \\mathbf{v} \\cdot \\nabla c$\n",
      "\n",
      "$\\dot{c}$ has units of a time-derivative of the concentration, and is the change in local concentration the particle detects per unit time.\n",
      "\n",
      "Assume a constant spatial gradient of magnitude $m$, $\\nabla c(\\mathbf{x}, t) = m \\hat{\\nabla} c$\n",
      "\n",
      "Maximum $\\dot{c}$ is when particle moves along the gradient: $\\mathbf{v} = v \\hat{\\nabla} c$,\n",
      "\n",
      "$\\dot{c}_\\mathrm{max} = v \\hat{\\nabla} c \\cdot m \\hat{\\nabla} c = v m$"
     ]
    },
    {
     "cell_type": "heading",
     "level": 1,
     "metadata": {},
     "source": [
      "Temporal chemotaxis"
     ]
    },
    {
     "cell_type": "markdown",
     "metadata": {},
     "source": [
      "Same motile particle but with one difference:\n",
      "\n",
      "Now we replace the motile particle's fitness by a time-averaged measure of how close it is to the greatest concentration increase.\n",
      "\n",
      "$f = \\chi \\dfrac{\\tilde{\\dot{c}}}{v}$\n",
      "\n",
      "$\\tilde{\\dot{c}} = \\mathrm{N} \\dfrac{\\int_0^t K(t - t') c(t') dt'}{\\tau^2}$\n",
      "\n",
      "where $\\mathrm{N}$ is a normalisation constant, and $\\tau$ is the timescale over which the gradient is averaged.\n",
      "\n",
      "We want to choose $\\mathrm{N}$ such that the maximum fitness is the same as in the spatial case.\n",
      "\n",
      "If we assume the fitness is maximised with a constant velocity, then we can say $c(t) = c(0) + (\\mathbf{v} \\cdot \\nabla c) t$\n",
      "\n",
      "$\\tilde{\\dot{c}} = \\dfrac{\\mathrm{N}}{\\tau^2} \\int_0^t K(t - t') (c(0) + (\\mathbf{v} \\cdot \\nabla c) t) dt'$\n",
      "\n",
      "$\\tilde{\\dot{c}} = \\dfrac{\\mathrm{N}}{\\tau^2} \\left[ c(0) \\int_0^t K(t - t') dt' + \\mathbf{v} \\cdot \\nabla c \\int_0^t K(t - t') t' dt' \\right]$\n",
      "\n",
      "The first term is a constant depending only on the initial concentration, and the memory kernel."
     ]
    },
    {
     "cell_type": "heading",
     "level": 2,
     "metadata": {},
     "source": [
      "Assuming a zero-area memory kernel"
     ]
    },
    {
     "cell_type": "markdown",
     "metadata": {},
     "source": [
      "The kernel we use has the property that\n",
      "\n",
      "$\\int_0^\\infty K(t) dt = 0$\n",
      "\n",
      "It can be seen that at long times this makes the first term above vanish, so that:\n",
      "\n",
      "$\\tilde{\\dot{c}} = \\dfrac{\\mathrm{N}}{\\tau^2} (\\mathbf{v} \\cdot \\nabla c) \\int_0^t K(t - t') t' dt'$\n",
      "\n",
      "The particular form for $K(t)$ that we use is:\n",
      "\n",
      "$K(t) = \\exp \\left(-\\dfrac{t}{\\tau} \\right) \\left\\{ 1 - \\dfrac{1}{2} \\left[ \\dfrac{t}{\\tau} + \\dfrac{1}{2} \\left(\\dfrac{t}{\\tau}\\right)^2 \\right] \\right\\}$\n",
      "\n",
      "We can now evaluate the integral:\n",
      "\n",
      "$\\int_0^t \\exp \\left(-\\dfrac{t - t'}{\\tau} \\right) \\left\\{ 1 - \\dfrac{1}{2} \\left[ \\dfrac{t - t'}{\\tau} + \\dfrac{1}{2} \\left(\\dfrac{t - t'}{\\tau}\\right)^2 \\right] \\right\\} t' dt'$\n",
      "\n",
      "define $\\hat{t} = t' - t$\n",
      "\n",
      "$\\int_{-t}^0 \\exp \\left(\\dfrac{\\hat{t}}{\\tau} \\right) \\left\\{ 1 - \\dfrac{1}{2} \\left[ -\\dfrac{\\hat{t}}{\\tau} + \\dfrac{1}{2} \\left(\\dfrac{\\hat{t}}{\\tau}\\right)^2 \\right] \\right\\} \\left(\\hat{t} + t\\right) d\\hat{t}$\n",
      "\n",
      "The $t$ at the end of this will be a constant, so whatever value we choose, it will be multiplied by the bare integral of $K$, \n",
      "which is zero. So this term vanishes, leaving\n",
      "\n",
      "$\\int_{-t}^0 \\exp \\left(\\dfrac{\\hat{t}}{\\tau} \\right) \\left\\{ 1 - \\dfrac{1}{2} \\left[ -\\dfrac{\\hat{t}}{\\tau} + \\dfrac{1}{2} \\left(\\dfrac{\\hat{t}}{\\tau}\\right)^2 \\right] \\right\\} \\hat{t} d\\hat{t}$\n",
      "\n",
      "Now we define $\\hat{t}' = \\dfrac{\\hat{t}}{\\tau}$\n",
      "\n",
      "$\\int_{-t}^0 \\exp \\left(\\hat{t}' \\right) \\left\\{ 1 - \\dfrac{1}{2} \\left[ -\\hat{t}' + \\dfrac{1}{2} {\\hat{t}'}^2 \\right] \\right\\} \\tau \\hat{t}' d\\hat{t}' \\tau$\n",
      "\n",
      "$\\tau^2 \\int_{-t}^0 \\exp \\left(\\hat{t}' \\right) \\left\\{ 1 - \\dfrac{1}{2} \\left[ -\\hat{t}' + \\dfrac{1}{2} {\\hat{t}'}^2 \\right] \\right\\} \\hat{t}' d\\hat{t}'$\n",
      "\n",
      "Finally we can calculate this, finding it equal to $\\tau^2 \\dfrac{3}{2}$"
     ]
    },
    {
     "cell_type": "code",
     "collapsed": false,
     "input": [
      "from IPython.display import display\n",
      "from sympy.interactive import printing\n",
      "import sympy\n",
      "printing.init_printing()\n",
      "t = sympy.Symbol('t')\n",
      "K = sympy.exp(t) * (1 - 0.5 * (-t + 0.5 * t ** 2))\n",
      "display(sympy.integrate(K * t, (t, -sympy.oo, 0)))"
     ],
     "language": "python",
     "metadata": {},
     "outputs": [
      {
       "latex": [
        "$$1.5$$"
       ],
       "metadata": {},
       "output_type": "display_data",
       "png": "[encoded data removed]",
       "text": [
        "1.50000000000000"
       ]
      }
     ],
     "prompt_number": 2
    },
    {
     "cell_type": "markdown",
     "metadata": {},
     "source": [
      "This means that\n",
      "\n",
      "$\\tilde{\\dot{c}} = \\dfrac{3}{2} \\mathrm{N} (\\mathbf{v} \\cdot \\nabla c)$\n",
      "\n",
      "To maximise this, clearly we again set $\\mathbf{v}$ parallel to $\\nabla c$:\n",
      "\n",
      "$\\tilde{\\dot{c}}_\\mathrm{max}\n",
      "= \\dfrac{3}{2} \\mathrm{N} (v \\hat{\\nabla} c \\cdot \\nabla c)\n",
      "= \\dfrac{3}{2} \\mathrm{N} (v \\hat{\\nabla} c \\cdot m \\hat{\\nabla} c)\n",
      "= \\dfrac{3}{2} \\mathrm{N} v m$"
     ]
    },
    {
     "cell_type": "heading",
     "level": 1,
     "metadata": {},
     "source": [
      "Equating temporal and spatial methods"
     ]
    },
    {
     "cell_type": "markdown",
     "metadata": {},
     "source": [
      "As we now have the forms of the maximum change in concentration over time, and the time-averaged equivalent quantity, we can equate them to find forms which should give equivalent drift speeds:\n",
      "\n",
      "$\\dot{c}_\\mathrm{max} = v m$\n",
      "\n",
      "$\\tilde{\\dot{c}}_\\mathrm{max} = \\dfrac{3}{2} \\mathrm{N} v m$\n",
      "\n",
      "We can see that we must set the normalisation constant in the temporal integral to\n",
      "\n",
      "$N = \\dfrac{2}{3}$\n",
      "\n",
      "$\\tilde{\\dot{c}} = \\dfrac{1}{\\tau^2}\\dfrac{2}{3} \\int_0^t K(t - t') c(t') dt'$"
     ]
    },
    {
     "cell_type": "heading",
     "level": 1,
     "metadata": {},
     "source": [
      "Maximum $\\chi$"
     ]
    },
    {
     "cell_type": "markdown",
     "metadata": {},
     "source": [
      "Can't have $f \\geq 1$.\n",
      "\n",
      "This implies $\\chi \\dfrac{\\dot{c}}{v} < 1$.\n",
      "\n",
      "$\\chi \\dfrac{mv}{v} < 1$\n",
      "\n",
      "$\\chi < \\dfrac{1}{m}$\n",
      "\n",
      "More generally, for non-constant spatial gradients, with a maximum gradient $m_\\mathrm{max}$,\n",
      "\n",
      "$\\chi < \\dfrac{1}{m_\\mathrm{max}}$"
     ]
    },
    {
     "cell_type": "heading",
     "level": 1,
     "metadata": {},
     "source": [
      "Finding a form for $c(t)$ that gives a greater fitness than going straight up the gradient"
     ]
    },
    {
     "cell_type": "markdown",
     "metadata": {},
     "source": [
      "For future usefulness, $K(t)$ has a zero at $-1 \\pm \\sqrt{5}$ and a minimum at $\\pm \\sqrt{6}$"
     ]
    },
    {
     "cell_type": "code",
     "collapsed": false,
     "input": [
      "sympy.solve(K)\n",
      "print(-1 + np.sqrt(5))\n",
      "print(-1 - np.sqrt(5))\n",
      "\n",
      "Kd = sympy.simplify(sympy.diff(K, t))\n",
      "display(Kd)\n",
      "sympy.solve(Kd)\n",
      "print(np.sqrt(6))"
     ],
     "language": "python",
     "metadata": {},
     "outputs": [
      {
       "output_type": "stream",
       "stream": "stdout",
       "text": [
        "1.2360679775\n",
        "-3.2360679775\n"
       ]
      },
      {
       "latex": [
        "$$\\left(0.25 t^{2} - 1.5\\right) e^{- t}$$"
       ],
       "metadata": {},
       "output_type": "display_data",
       "png": "[encoded data removed]",
       "text": [
        "\u239b      2      \u239e  -t\n",
        "\u239d0.25\u22c5t  - 1.5\u23a0\u22c5\u212f  "
       ]
      },
      {
       "output_type": "stream",
       "stream": "stdout",
       "text": [
        "2.44948974278\n"
       ]
      }
     ],
     "prompt_number": 7
    },
    {
     "cell_type": "markdown",
     "metadata": {},
     "source": [
      "Even though we've been saying $c(t)$, really it's $c(\\mathbf{x}(t))$.\n",
      "\n",
      "We also know that trivially,\n",
      "\n",
      "$\\mathbf{x}(t) = \\mathbf{x}(0) + \\int_0^t \\mathbf{v}(t') dt'$\n",
      "\n",
      "For the moment we assume a uniform gradient of magnitude $m$ in the direction $\\hat{\\mathbf{u}}_c(t)$, so we can say that:\n",
      "\n",
      "$c(\\mathbf{x}(t)) = m \\mathbf{x}(t) \\cdot \\hat{\\mathbf{u}}_c(t)$\n",
      "\n",
      "$c(\\mathbf{x}(t)) = m (\\mathbf{x}(0) + \\int_0^t \\mathbf{v}(t') dt') \\cdot \\hat{\\mathbf{u}}_c(t)$\n",
      "\n",
      "We know make the additional assumption that the gradient is constant in time, $\\hat{\\mathbf{u}}_c(t) = \\hat{\\mathbf{u}}_c$\n",
      "\n",
      "$c(\\mathbf{x}(t)) = m \\mathbf{x}(0) \\cdot \\hat{\\mathbf{u}}_c + m \\int_0^t \\mathbf{v}(t') \\cdot \\hat{\\mathbf{u}}_c dt'$\n",
      "\n",
      "We can make the rather cynical move of noting that the constant first time is going to be wiped away by the $K(t - t') = K(\\infty) = 0$, and ignore it.\n",
      "\n",
      "$c(\\mathbf{x}(t)) = m \\int_0^t \\mathbf{v}(t') \\cdot \\hat{\\mathbf{u}}_c dt'$\n",
      "\n",
      "$c(\\mathbf{x}(t)) = m v \\int_0^t \\cos\\theta_c(t') dt'$\n",
      "\n",
      "This seems about as simple as we're going to get, so let's stick it back into the fitness equation,\n",
      "\n",
      "$\\tilde{\\dot{c}} = \\dfrac{2 m v}{3} \\int_0^t K(t - t') \\int_0^{t'} \\cos\\theta_c(t'') dt'' dt'$\n",
      "\n",
      "Now we're going to make the additional assumption that we're in 1 dimension. This means that $\\cos\\theta_c(t) \\in \\pm 1$\n",
      "\n",
      "We're going to make yet another assumption, that there's only one switch in the value of $\\cos\\theta_c(t)$, at time $t_0$,\n",
      "\n",
      "$\\cos\\theta_c(t) = \\mathrm{sgn}(t - t_0) = 2 H(t - t_0) - 1$\n",
      "\n",
      "Note that if $t_0$ never happens, then the Heaviside term is always zero, and $\\cos\\theta_c(t) = -1$, so the particle swims in the wrong direction forever. So we should expect in this case $\\tilde{\\dot{c}} = -m v$.\n",
      "\n",
      "$\\tilde{\\dot{c}} = \\dfrac{2 m v}{3} \\int_0^t K(t - t') \\int_0^{t'} (2 H(t'' - t_0) - 1) dt'' dt'$\n",
      "\n",
      "$\\tilde{\\dot{c}} = \\dfrac{2 m v}{3} \\int_0^t K(t - t') (\\int_0^{t'} 2 H(t'' - t_0) dt'' + \\int_0^{t'} - 1 dt'') dt'$\n",
      "\n",
      "$\\tilde{\\dot{c}} = \\dfrac{2 m v}{3} \\int_0^t K(t - t') (\\int_0^{t'} 2 H(t'' - t_0) dt'' -t') dt'$\n",
      "\n",
      "$\\tilde{\\dot{c}} = \\dfrac{2 m v}{3} \\left[ \\int_0^t K(t - t') \\int_0^{t'} 2 H(t'' - t_0) dt'' dt' - \\int_0^t K(t - t') t' dt' \\right]$\n",
      "\n",
      "We know the result of the second term from earlier: $\\int_0^t K(t - t') t' dt' = \\dfrac{3}{2}$\n",
      "\n",
      "$\\tilde{\\dot{c}} = \\dfrac{2 m v}{3} \\left[ \\int_0^t K(t - t') \\int_0^{t'} 2 H(t'' - t_0) dt'' dt' - \\dfrac{3}{2} \\right]$\n",
      "\n",
      "$\\tilde{\\dot{c}} = -m v + \\dfrac{4 m v}{3} \\int_0^t K(t - t') \\int_0^{t'} H(t'' - t_0) dt'' dt'$\n",
      "\n",
      "From Wikipedia, \n",
      "\n",
      "$\\int_{-\\infty}^x H(\\xi) \\mathrm{d}\\xi = x H(x)$\n",
      "\n",
      "I haven't thought as much about this as I should, but I *think* this means, given a shift, that\n",
      "\n",
      "$\\int_{-\\infty}^{t'} H(t'' - t_0) \\mathrm{d}t'' = t' H(t' - t_0)$\n",
      "\n",
      "and shifting the lower bound from $-\\infty$ to $0$, which I guess means we must assume $t'$ is large. Ok so I don't really know what I'm doing here but I think it's ok:\n",
      "\n",
      "$\\int_{0}^{t'} H(t'' - t_0) \\mathrm{d}t'' = t' H(t' - t_0)$\n",
      "\n",
      "Sticking this into our equation,\n",
      "\n",
      "$\\tilde{\\dot{c}} = -m v + \\dfrac{4 m v}{3} \\int_0^t K(t - t') t' H(t' - t_0) dt'$\n",
      "\n",
      "We can see from this that if $t_0 > t$, the second term is zero, which makes sense: we see that the dynamics we're describing is a particle that swims up the gradient until $t=t_0$, then reverses direction for the remainder of the time.\n",
      "\n",
      "Of course we're going to assume $t_0 < t$. This means only the contribution from $t' > t_0$ can be non-zero, at which point the Heavyside term is simply $1$:\n",
      "\n",
      "$\\tilde{\\dot{c}} = -m v + \\dfrac{4 m v}{3} \\int_{t_0}^t K(t - t') t' dt' \\quad t_0 < t$\n",
      "\n",
      "Reminding ourselves that,\n",
      "\n",
      "$I = \\int K(t) t dt = (\\dfrac{1}{4} t^3 + \\dfrac{5}{4} t^2 + \\dfrac{3}{2} t + \\dfrac{3}{2}) \\mathrm{e}^{-t}$\n",
      "\n",
      "I'm getting a bit tied up in knots about the $t-t'$ argument to $K$, but I think it's clear that,\n",
      "\n",
      "$\\tilde{\\dot{c}} = m v \\left[-1 + \\dfrac{4}{3} I(t_0) \\right]$\n",
      "\n",
      "This makes sense, because if we switch direction straight away, $t_0 = 0$, $\\tilde{\\dot{c}} = mv$. If we switch at the moment of inspection (so would expect nothing to happen, so second term should be zero), $\\tilde{\\dot{c}} = -mv$.\n",
      "\n",
      "There is a point, when $I(t_0) = \\dfrac{3}{4}$, when the particle can switch direction, and end up with an estimate of the spatial gradient that is exactly zero. This involves solving the equation,\n",
      "\n",
      "$(t^3 + 5 t^2 + 6 t + 6) \\mathrm{e}^{-t} - 3 = 0$\n",
      "\n",
      "Not easy to solve, but graphically it happens around $t - t_0 \\simeq 4.11$, which seems reasonable.\n",
      "\n",
      "The point is though that using a single switch in direction in 1D isn't enough to beat the straight-up-the-gradient path.\n",
      "\n",
      "It seems like it's possible to get a *negative* gradient less than -1, which is interesting."
     ]
    }
   ],
   "metadata": {}
  }
 ]
}