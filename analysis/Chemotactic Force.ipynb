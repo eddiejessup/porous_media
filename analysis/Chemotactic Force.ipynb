{
 "metadata": {
  "name": "",
  "signature": "sha256:7fcedbe86d4a4bb2c37a0a519f76a231faa985a9161ec587a23da14b60a507fc"
 },
 "nbformat": 3,
 "nbformat_minor": 0,
 "worksheets": [
  {
   "cells": [
    {
     "cell_type": "markdown",
     "metadata": {},
     "source": [
      "$\\mathbf{v}(t + \\Delta t) = \\mathrm{v} \\dfrac{\\mathbf{v}(t) + \\chi_\\mathrm{F} \\nabla c(t) \\, \\Delta t}{\\abs{\\mathbf{v}(t) + \\chi_\\mathrm{F} \\nabla c(t) \\, \\Delta t}}$"
     ]
    }
   ],
   "metadata": {}
  }
 ]
}