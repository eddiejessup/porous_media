{
 "metadata": {
  "name": "",
  "signature": "sha256:64e61c3d63b37d28c3125630cf7a275cc759c4fd2fa693ed91ca0fc85acd6288"
 },
 "nbformat": 3,
 "nbformat_minor": 0,
 "worksheets": [
  {
   "cells": [
    {
     "cell_type": "heading",
     "level": 1,
     "metadata": {},
     "source": [
      "Definition of diffusion constant"
     ]
    },
    {
     "cell_type": "markdown",
     "metadata": {},
     "source": [
      "From [this paper](http://people.physik.hu-berlin.de/~lindner/PDF/epj_08.pdf):\n",
      "\n",
      "$D = \\lim_{t \\to \\infty}\\dfrac{1}{2t} <\\left[x(t)\u2212 <x(t)>\\right]^2>$\n",
      "\n",
      "The angle brackets indicate ensemble averages over all trajectories.\n",
      "\n",
      "The subtraction of the mean position accounts for any drift in the system -- this is important in my case, when chemotactic drift is occurring."
     ]
    },
    {
     "cell_type": "heading",
     "level": 1,
     "metadata": {},
     "source": [
      "Measure diffusivity with lots of trajectories, not long times"
     ]
    },
    {
     "cell_type": "markdown",
     "metadata": {},
     "source": [
      "to measure diffusivity, require a large number of samples, not just a single sample run for a long time.\n",
      "\n",
      "This is because the early time behaviour of a run affects the value of $D$ that is measured for it, in a way that can't be recovered by running for a long time.\n",
      "\n",
      "Taking the simplest case of a discrete random walk, after two steps there are two non-degenerate paths: (left, right) and (left, left).\n",
      "\n",
      "With one particle, one of these paths, and all paths coming from it, is not at all sampled, no matter how long the simulation is run."
     ]
    },
    {
     "cell_type": "heading",
     "level": 1,
     "metadata": {},
     "source": [
      "Diffusive-like behaviour"
     ]
    },
    {
     "cell_type": "markdown",
     "metadata": {},
     "source": [
      "Elsewhere are notes about how to fit diffusive-like behaviour for time scaling exponents other than 2: see Rabbit project."
     ]
    },
    {
     "cell_type": "heading",
     "level": 1,
     "metadata": {},
     "source": [
      "Measuring drift and diffusion by fitting"
     ]
    },
    {
     "cell_type": "markdown",
     "metadata": {},
     "source": [
      "If we assume that there's some drift and some diffusion occuring in the system, this means the mean displacement of a particle at time $t$ is,\n",
      "\n",
      "$<x^2(t)> = (v_d t)^2 + 2 D t$\n",
      "\n",
      "So if we know $<x^2(t)>$, we can fit to this curve and derive both parameters.\n",
      "\n",
      "The issue with this is it means we must keep a record of the data over time."
     ]
    },
    {
     "cell_type": "heading",
     "level": 1,
     "metadata": {},
     "source": [
      "Diffusivity as a function of dimension"
     ]
    },
    {
     "cell_type": "markdown",
     "metadata": {},
     "source": [
      "Calculating $D$ experimentally for ABPs gives:\n",
      "\n",
      "$D(d=2) = 1$\n",
      "\n",
      "$D(d=3) = \\dfrac{1}{3}$\n",
      "\n",
      "The only scaling here that I can see that works is the rotational diffusional degrees of freedom: from [here][1], the number of rotational degrees of freedom in $d$ dimensions is:\n",
      "\n",
      "$\\mathrm{n}_\\mathrm{rot}(d) = \\dfrac{d (d - 1)}{2}$\n",
      "\n",
      "$\\mathrm{n}_\\mathrm{rot}(d=2) = 1$\n",
      "\n",
      "$\\mathrm{n}_\\mathrm{rot}(d=3) = 3$\n",
      "\n",
      "[1]: http://en.wikipedia.org/wiki/Degrees_of_freedom_(mechanics)#Motions_and_dimensions\n",
      "\n",
      "This suggests that:\n",
      "\n",
      "$D(d) = \\dfrac{v^2}{\\mathrm{n}_\\mathrm{rot}(d) D_r}$"
     ]
    }
   ],
   "metadata": {}
  }
 ]
}