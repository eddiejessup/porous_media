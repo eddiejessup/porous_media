{
 "metadata": {
  "name": "",
  "signature": "sha256:752d875300bfb3570db5c58a8310a924bcbb46ca9f611be5b57e7186d6fc4ec6"
 },
 "nbformat": 3,
 "nbformat_minor": 0,
 "worksheets": [
  {
   "cells": [
    {
     "cell_type": "heading",
     "level": 1,
     "metadata": {},
     "source": [
      "Continuous environment"
     ]
    },
    {
     "cell_type": "heading",
     "level": 2,
     "metadata": {},
     "source": [
      "Equivalence of Active Brownian Particle (ABP) and Run and Tumble Particle (RTP) dynamics"
     ]
    },
    {
     "cell_type": "markdown",
     "metadata": {},
     "source": [
      "Long-time diffusivity should be the same for ABPs and RTPs.\n",
      "\n",
      "Hoped that we can neglect RTPs for much of the later analysis until it's done for ABPs, then look at differences afterwards"
     ]
    },
    {
     "cell_type": "heading",
     "level": 1,
     "metadata": {},
     "source": [
      "Continuous environment with a constant chemical gradient"
     ]
    },
    {
     "cell_type": "markdown",
     "metadata": {},
     "source": [
      "Want to measure diffusivity and drift speed. See other notebook for discussion of calculation of this."
     ]
    },
    {
     "cell_type": "heading",
     "level": 2,
     "metadata": {},
     "source": [
      "Spatial gradient chemotaxis"
     ]
    },
    {
     "cell_type": "markdown",
     "metadata": {},
     "source": [
      "Measure dependence of drift speed on chemotactic sensitivity parameter for spatial gradient-sensing chemotaxis.\n",
      "\n",
      "Model chemotaxis for ABPs via suppressed rotational diffusion, in analogy with tumble suppression.\n",
      "\n",
      "Also maybe investigate effect of one-sidedness.\n",
      "\n",
      "See other notebook for derivation of analytical prediction of drift speed."
     ]
    },
    {
     "cell_type": "heading",
     "level": 2,
     "metadata": {},
     "source": [
      "Temporal gradient chemotaxis"
     ]
    },
    {
     "cell_type": "markdown",
     "metadata": {},
     "source": [
      "Compare dependence of drift speed on chemotactic sensitivity parameter for temporal gradient-sensing chemotaxis."
     ]
    },
    {
     "cell_type": "heading",
     "level": 1,
     "metadata": {},
     "source": [
      "Porous medium"
     ]
    },
    {
     "cell_type": "markdown",
     "metadata": {},
     "source": [
      "Model as a periodic environment filled with randomly placed circles/spheres of a constant radius $R$, filled up to some packing fraction, $\\phi$.\n",
      "\n",
      "System has two length scales (ignoring system size):\n",
      "\n",
      "- Mean free path in the system\n",
      "- Directional persistence length\n",
      "\n",
      "By using the packing fraction as a proxy for the first (and maybe later converting this into some length measure), look at diffusivity as a function of the ratio of these two lengths.\n",
      "\n",
      "For very low persistence lengths, diffusivity is low even in continuous environments.\n",
      "\n",
      "For very high persistence lengths, could be difficult to get past obstacles (depending on how particles interact with obstacle surfaces).\n",
      "\n",
      "So should have crossover behaviour for at least some forms of particle-obstacle interaction.\n",
      "\n",
      "This means there's an optimal amount of rotational noise to navigate through porous media. In the context of RTPs, an environment-dependent optimal tumble rate."
     ]
    },
    {
     "cell_type": "heading",
     "level": 2,
     "metadata": {},
     "source": [
      "The problem with investigating cross-over by varying the packing fraction"
     ]
    },
    {
     "cell_type": "markdown",
     "metadata": {},
     "source": [
      "If we keep the obstacle radius constant, as we increase the number of obstacles, we can see this two ways:\n",
      "\n",
      "- Increasing the packing fraction of the environment, $\\phi$\n",
      "- Simulating a particle in a constant environment, but with variable rotational noise\n",
      "\n",
      "The second makes sense because a particle with less noise will have more collisions with the environment.\n",
      "\n",
      "So by this logic it sounds like we can test the cross-over behaviour by changing $\\phi$ right?\n",
      "\n",
      "Not easily. This is because the cross-over depends on the ratio of two length scales -- the persistence length and the mean free path. To investigate this we need to be able to convert our variable $\\phi$ into a variable mean free path. Of course this is possible, but it isn't easy.\n",
      "\n",
      "So why don't we have this issue if we keep $\\phi$ constant and change the persistence length? Because, yes, we don't know what the mean free path length is, but we know it's being kept constant."
     ]
    },
    {
     "cell_type": "heading",
     "level": 2,
     "metadata": {},
     "source": [
      "Forms of obstacle interaction"
     ]
    },
    {
     "cell_type": "heading",
     "level": 3,
     "metadata": {},
     "source": [
      "Aligning"
     ]
    },
    {
     "cell_type": "markdown",
     "metadata": {},
     "source": [
      "Particle's velocity aligns parallel with surface"
     ]
    },
    {
     "cell_type": "heading",
     "level": 3,
     "metadata": {},
     "source": [
      "Reflecting"
     ]
    },
    {
     "cell_type": "markdown",
     "metadata": {},
     "source": [
      "Particle's velocity component perpendicular to the surface is reversed."
     ]
    },
    {
     "cell_type": "heading",
     "level": 3,
     "metadata": {},
     "source": [
      "Stalling"
     ]
    },
    {
     "cell_type": "markdown",
     "metadata": {},
     "source": [
      "Particle's speed is set to zero until its direction diffuses to a free path."
     ]
    },
    {
     "cell_type": "heading",
     "level": 3,
     "metadata": {},
     "source": [
      "Bounce-back"
     ]
    },
    {
     "cell_type": "markdown",
     "metadata": {},
     "source": [
      "Particle's direction is reversed."
     ]
    },
    {
     "cell_type": "heading",
     "level": 3,
     "metadata": {},
     "source": [
      "Tumbling"
     ]
    },
    {
     "cell_type": "markdown",
     "metadata": {},
     "source": [
      "Particle stalls and its direction is randomised at each timestep.\n",
      "\n",
      "Note that there's some trickiness about this method being timestep-dependent. Maybe better to model as an enhanced rotational diffusion constant."
     ]
    },
    {
     "cell_type": "heading",
     "level": 2,
     "metadata": {},
     "source": [
      "Properties of forms of interaction"
     ]
    },
    {
     "cell_type": "markdown",
     "metadata": {},
     "source": [
      "It is clear that for some non-uniform environments, a drift can be induced with aligning interactions. By sorting the particles at the start into left- and right-moving particles, the diffusivity as defined here can also trivially be enhanced.\n",
      "\n",
      "As time-reversible processes, bounceback, reflection and stalling can't induce a drift in the environment. But diffusivity can be changed. It's not obvious to me if diffusivity can be enhanced using any of these kinds of interaction, but it can certainly be reduced.\n",
      "\n",
      "These forms can be ordered in some sense by how great an angle they immediately deflect the particle's trajectory from its incoming value; from least to most:\n",
      "\n",
      "- Stalling (0\u02da)\n",
      "- Aligning (0\u02da to 90\u02da)\n",
      "- Reflecting / Tumbling (0\u02da to 180\u02da)\n",
      "- Bounce-back (180\u02da)\n",
      "\n",
      "But maybe on top of this there's something about how deterministic the leaving direction is -- aligning particles can be trapped in closed cycles, while bounce-back particles can be trapped between close surfaces.\n",
      "\n",
      "It's possible that stalling may look like aligning behaviour, but on a slower timescale. This is because usually a stalled particle will leave the surface close to parallel with it, but after some time, and only with a finite probability, rather than deterministically in the aligning case.\n",
      "\n",
      "Decided to do reflecting case first, because\n",
      "\n",
      "- Aligning leads to the non-equilibrium behaviour which it would be good to avoid in the first analysis\n",
      "- Bounce-back seems perverse and unrealistic\n",
      "- Stalling seems like it would reduce diffusivity too much, although there's the recent paper to compare with for this case"
     ]
    },
    {
     "cell_type": "heading",
     "level": 1,
     "metadata": {},
     "source": [
      "Porous medium with a constant chemical gradient"
     ]
    },
    {
     "cell_type": "markdown",
     "metadata": {},
     "source": [
      "Coming from the direction of chemotaxis investigations, can see if spatial and temporal methods diverge in porous media in ways that aren't visible in continous medium -- can map them onto each other there, but not here.\n",
      "\n",
      "So measure drift and diffusivity in the same environments for particles doing each method, and see if and how parameters that map onto each other in the continuous case diverge.\n",
      "\n",
      "Coming from the direction of porous media, temporal chemotaxis introduces an additional length scale -- the length over which the chemical gradient is sensed.\n",
      "\n",
      "In a continuous environment with a constant gradient, the particle wants this length to be as long as possible within the constraints of inherent rotational noise, because accuracy can only increase.\n",
      "\n",
      "But in a non-uniform environment, assuming collisions with the environment change the particle's path, this acts as an effective additional source of noise.\n",
      "\n",
      "This may mean that the maximum length scale of chemotaxis is reduced, or, equivalently, there is a maximum non-uniformity for the particle to do effective chemotaxis."
     ]
    },
    {
     "cell_type": "markdown",
     "metadata": {},
     "source": [
      "To compare temporal an spatial methods, need to compare particles that have the same drift speed in free space.\n",
      "\n",
      "Below are equivalent free-space drift speed $\\chi$ for combinations of spatial and temporal:\n",
      "\n",
      "- Tumbling, spatial: 0.476714354293\n",
      "- Diffusing, spatial: 0.477955417669\n",
      "- Tumbling, temporal: 0.911150709797\n",
      "- Diffusing, temporal: 0.976613898526"
     ]
    },
    {
     "cell_type": "heading",
     "level": 1,
     "metadata": {},
     "source": [
      "Summary of lines of investigation"
     ]
    },
    {
     "cell_type": "markdown",
     "metadata": {},
     "source": [
      "- Compare drift and diffusion in porous media as a function of packing fraction, in the temporal and spatial cases. $D(\\phi \\,|\\, \\chi=0)$, $v_d(\\phi \\,|\\, \\chi > 0)$\n",
      "- Find the crossover of optimal diffusivity in a constant porous environment for variable rotational diffusion, $D(D_r \\,|\\, \\phi > 0)$\n",
      "\n",
      "Each of these has two more choices, the effect of which can be investigated:\n",
      "\n",
      "- Dimensionality, 2 or 3 (can't have a porous medium in 1 dimension)\n",
      "- Obstacle interaction, reflecting, stalling or aligning (ignore bounce-back)\n"
     ]
    }
   ],
   "metadata": {}
  }
 ]
}