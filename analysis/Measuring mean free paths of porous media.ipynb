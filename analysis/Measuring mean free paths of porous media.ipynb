{
 "metadata": {
  "name": "",
  "signature": "sha256:e759f8031aadf71d9439e6ad97275a0a3a10108c8cfa365b6236b25b6f27eae1"
 },
 "nbformat": 3,
 "nbformat_minor": 0,
 "worksheets": [
  {
   "cells": [
    {
     "cell_type": "markdown",
     "metadata": {},
     "source": [
      "We want to know the diffusivity of a particle swimming with rotational diffusion in a porous medium, with some interaction rule with the medium.\n",
      "\n",
      "It seems like there are two length scales in the system:\n",
      "\n",
      "- The distance travelled before the particle randomises its direction through rotational diffusion, in the absence of collisions\n",
      "- The distance travelled before the particle interacts with the medium, in the absence of rotational diffusion\n",
      "\n",
      "Measuring the first is easy (apart from conceptual confusion about dimensionality and diffusion constants)\n",
      "\n",
      "Measuring the second is less easy.\n",
      "\n",
      "One option:\n",
      "\n",
      "1. Pick a number of particle positions and orientations uniformly from the available configurations\n",
      "2. Find the mean distance to the nearest obstacle for these configurations\n",
      "\n",
      "Second option:\n",
      "\n",
      "1. Pick a single particle position and orientation uniformly from the available configurations\n",
      "2. Find the distance to the nearest obstacle\n",
      "3. Go to this point\n",
      "4. Apply the interaction rule\n",
      "5. Repeat 2-4 many times\n",
      "6. Take the mean of these distances\n",
      "\n",
      "From statistical physics (from my Coursera course), think that if the system is time-reversible and aperiodic, then the particle in option 2 explores the entire configuration space uniformly, so the two options are equivalent.\n",
      "\n",
      "For me, I'm looking at randomly placed non-overlapping spheres which aren't touching, so the system should be aperiodic in this respect.\n",
      "\n",
      "For reflecting interactions, the interaction is time-reversible, and aperiodic, so the two options should be equivalent.\n",
      "\n",
      "For bounce-back interactions, the interaction is time-reversible, *but* not aperiodic, so the two options aren't equivalent. *But* finite rotational diffusion restores aperiodicity, so the distribution should be uniform in this case, so the two options should then be equivalent.\n",
      "\n",
      "For stalling and aligning interactions, the interactions are *not* time-reversible, *and* not aperiodic. Finite rotational diffusion doesn't restore time reversibility, so we should expect non-uniform distributions. Are the distributions dependent on the particular rotational diffusion constant chosen? If not we can just pick a finite diffusion constant and find the mean free path length by option 2."
     ]
    }
   ],
   "metadata": {}
  }
 ]
}