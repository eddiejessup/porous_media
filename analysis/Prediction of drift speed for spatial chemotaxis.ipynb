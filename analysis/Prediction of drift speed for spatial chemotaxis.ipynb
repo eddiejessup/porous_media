{
 "metadata": {
  "name": "",
  "signature": "sha256:aae369275d81e276a2cc0c2b8dab76ed43794951f333ad713f857339980a57d5"
 },
 "nbformat": 3,
 "nbformat_minor": 0,
 "worksheets": [
  {
   "cells": [
    {
     "cell_type": "heading",
     "level": 1,
     "metadata": {},
     "source": [
      "Derive main equation"
     ]
    },
    {
     "cell_type": "markdown",
     "metadata": {},
     "source": [
      "Take $\\theta$ to be the angle between $\\mathbf{v}$ and $\\nabla c$.\n",
      "\n",
      "One particle swimming at an orientation $\\theta$ has a drift speed,\n",
      "\n",
      "$v_d = v \\cos(\\theta)$\n",
      "\n",
      "Over a long period of time, assuming an ergodic system (meaning here that the particle always has some rotational noise):\n",
      "\n",
      "$D_r(\\theta) > 0 \\quad \\forall \\, \\theta$\n",
      "\n",
      "the particle has an average drift speed,\n",
      "\n",
      "$\\bar{v}_d = \\int_{-\\pi}^{\\pi} P(\\theta) v_d(\\theta) d\\theta$\n",
      "\n",
      "$\\bar{v}_d = v \\int_{-\\pi}^{\\pi} P(\\theta) \\cos(\\theta) d\\theta$\n",
      "\n",
      "where $P(\\theta)$ is the probability of the particle being at orientation $\\theta$."
     ]
    },
    {
     "cell_type": "heading",
     "level": 1,
     "metadata": {},
     "source": [
      "Special case of spatial Chemotaxis"
     ]
    },
    {
     "cell_type": "markdown",
     "metadata": {},
     "source": [
      "We propose that $P(\\theta) \\propto \\dfrac{1}{D_r(\\theta)}$, because simulations strongly suggest this is the case:\n",
      "\n",
      "$P(\\theta) = \\dfrac{D_r(\\theta)^{-1}}{\\int_{-\\pi}^{\\pi} D_r(\\theta)^{-1} d\\theta}$\n",
      "\n",
      "First must normalise $D_r(\\theta)^{-1}$,\n",
      "\n",
      "$I = \\int \\dfrac{d\\theta}{D_r(\\theta)}$\n",
      "\n",
      "Now we take our particular form for $D_r(\\theta)$.\n",
      "\n",
      "$I = \\dfrac{1}{D_{r,0}} \\int \\dfrac{d\\theta}{1 - \\chi m \\cos(\\theta)}$\n",
      "\n",
      "let $a = \\chi m$, and neglect $D_{r,0}$ to get to fundamental equation:\n",
      "\n",
      "$\\tilde{I} = \\int \\dfrac{d\\theta}{1 - a \\cos(\\theta)}$\n",
      "\n",
      "$I = D_{r,0} \\tilde{I}$"
     ]
    },
    {
     "cell_type": "heading",
     "level": 1,
     "metadata": {},
     "source": [
      "Side note: explanation of how form for probability was analysed"
     ]
    },
    {
     "cell_type": "markdown",
     "metadata": {},
     "source": [
      "Did some simulations of the spatial chemotaxis model, and made histograms of the distribution of $\\theta$.\n",
      "\n",
      "For $\\chi=0$, get a flat distribution as expected.\n",
      "\n",
      "Compared curves for $\\chi > 0$ to analytical calculation of $D_r(\\theta)$ at those points, normalised appropriately.\n",
      "\n",
      "They essentially overlapped each other."
     ]
    },
    {
     "cell_type": "heading",
     "level": 1,
     "metadata": {},
     "source": [
      "Side note: Attempt to integrate by hand using a series expansion"
     ]
    },
    {
     "cell_type": "markdown",
     "metadata": {},
     "source": [
      "Ok so because the integral diverges for $a \\geq 1$, can't evaluate integral directly easily.\n",
      "\n",
      "But since we know that $|a| < 1$, we can use the series expansion:\n",
      "\n",
      "$\\dfrac{1}{1 - x} = \\sum_{n=0}^\\infty x^n \\quad |x| < 1$\n",
      "\n",
      "in this case,\n",
      "\n",
      "$\\dfrac{1}{1 - a \\cos(\\theta)} = \\sum_{n=0}^\\infty a^n \\cos^n(\\theta)$\n",
      "\n",
      "putting this into the integral:\n",
      "\n",
      "$\\left[ \\tilde{I}(\\theta) \\right]_{-\\pi}^\\pi = \\int_{-\\pi}^\\pi \\sum_{n=0}^\\infty a^n \\cos^n(\\theta) d\\theta$\n",
      "\n",
      "$\\left[ \\tilde{I}(\\theta) \\right]_{-\\pi}^\\pi = \\sum_{n=0}^\\infty a^n \\int_{-\\pi}^\\pi \\cos^n(\\theta) d\\theta$\n",
      "\n",
      "Define $g_n = \\int_{-\\pi}^\\pi \\cos^n(\\theta) d\\theta$:\n",
      "\n",
      "$\\left[ \\tilde{I}(\\theta) \\right]_{-\\pi}^\\pi = \\sum_{n=0}^\\infty a^n g_n$\n",
      "\n",
      "Can use the identity for the $n > 0$ cases:\n",
      "\n",
      "$\\int_{-\\pi}^\\pi \\cos^n(\\theta) = \\dfrac{\\cos^{n-1}(\\theta) sin(\\theta)}{n} + \\dfrac{n - 1}{n}\\int_{-\\pi}^\\pi \\cos^{n-2}(\\theta) d\\theta \\quad n > 0$\n",
      "\n",
      "$\\sin(\\pm \\pi) = 0$, so can discard first term, leaving:\n",
      "\n",
      "$\\int_{-\\pi}^\\pi \\cos^n(\\theta) = \\dfrac{n - 1}{n}\\int_{-\\pi}^\\pi \\cos^{n-2}(\\theta) d\\theta \\quad n > 0$\n",
      "\n",
      "In terms of $g_n$:\n",
      "\n",
      "$g_n = \\dfrac{n - 1}{n} g_{n-2} \\quad n > 0$\n",
      "\n",
      "This leaves two limiting cases: $g_1$ and $g_0$.\n",
      "\n",
      "We can evaluate these directly:\n",
      "\n",
      "$g_0 = \\int_{-\\pi}^\\pi \\cos^0(\\theta) d\\theta = 2 \\pi$\n",
      "\n",
      "$g_1 = \\int_{-\\pi}^\\pi \\cos(\\theta) d\\theta = \\left[ sin(\\theta) \\right]_{-\\pi}^\\pi = 0$\n",
      "\n",
      "This means all odd $g_n = 0$. Rewriting integral to only consider even terms:\n",
      "\n",
      "$\\left[ \\tilde{I}(\\theta) \\right]_{-\\pi}^\\pi = \\sum_{n=0}^\\infty a^{2n} g_{2n}$\n",
      "\n",
      "and writing $g_n$ in terms of $g_0$,\n",
      "\n",
      "$g_n = \\prod_{m=1}^n \\left( \\dfrac{2m - 1}{2m} \\right) g_0 \\quad n > 0$\n",
      "\n",
      "So,\n",
      "\n",
      "$\\left[ \\tilde{I}(\\theta) \\right]_{-\\pi}^\\pi = g_0 + \\sum_{n=1}^\\infty a^{2n} \\prod_{m=1}^{n} \\left( \\dfrac{2m - 1}{2m} \\right) g_0$\n",
      "\n",
      "$\\left[ \\tilde{I}(\\theta) \\right]_{-\\pi}^\\pi = 2 \\pi \\left[ 1 + \\sum_{n=1}^\\infty a^{2n} \\prod_{m=1}^{n} \\left( \\dfrac{2m - 1}{2m} \\right) \\right]$\n",
      "\n",
      "Just for fun, using [double factorial](http://en.wikipedia.org/wiki/Double_factorial) notation:\n",
      "\n",
      "$\\left[ \\tilde{I}(\\theta) \\right]_{-\\pi}^\\pi = 2 \\pi \\left[ 1 + \\sum_{n=1}^\\infty a^{2n} \\dfrac{(2n - 1)!!}{(2n)!!} \\right]$"
     ]
    },
    {
     "cell_type": "heading",
     "level": 1,
     "metadata": {},
     "source": [
      "Integrate directly using Mathematica"
     ]
    },
    {
     "cell_type": "markdown",
     "metadata": {},
     "source": [
      "That was all very interesting, but actually it turns out Mathematica *can* integrate directly, giving the answer:\n",
      "\n",
      "$\\tilde{I}(\\theta) = -\\dfrac{2}{\\sqrt{a^2 - 1}} \\tanh^{-1} \\left[ \\dfrac{(a + 1) \\tan \\left(\\dfrac{\\theta}{2}\\right)}{\\sqrt{a^2 - 1}} \\right]$"
     ]
    },
    {
     "cell_type": "heading",
     "level": 1,
     "metadata": {},
     "source": [
      "Calculate $P(\\theta)$"
     ]
    },
    {
     "cell_type": "markdown",
     "metadata": {},
     "source": [
      "$\\left[ \\tilde{I}(\\theta) \\right]_{-\\pi}^\\pi = -\\dfrac{2}{\\sqrt{a^2 - 1}} \\left[ \\tanh^{-1} \\left[ \\dfrac{(a + 1) \\tan \\left(\\dfrac{\\pi}{2}\\right)}{\\sqrt{a^2 - 1}} \\right] - \\tanh^{-1} \\left[ \\dfrac{(a + 1) \\tan \\left(\\dfrac{-\\pi}{2}\\right)}{\\sqrt{a^2 - 1}} \\right] \\right]$\n",
      "\n",
      "Using even-ness of trig functions (see section below for details):\n",
      "\n",
      "$\\left[ \\tilde{I}(\\theta) \\right]_{-\\pi}^\\pi = -\\dfrac{4}{\\sqrt{a^2 - 1}} \\tanh^{-1} \\left[ \\dfrac{(a + 1) \\tan \\left(\\dfrac{\\pi}{2}\\right)}{\\sqrt{a^2 - 1}} \\right]$\n",
      "\n",
      "And evaluating $\\tanh^{-1}$ (again see below):\n",
      "\n",
      "$\\left[ \\tilde{I}(\\theta) \\right]_{-\\pi}^\\pi = \\dfrac{2 \\pi i}{\\sqrt{a^2 - 1}}$\n",
      "\n",
      "Flipping square root to remove $i$:\n",
      "\n",
      "$\\left[ \\tilde{I}(\\theta) \\right]_{-\\pi}^\\pi = \\dfrac{2 \\pi}{\\sqrt{1 - a^2}}$\n",
      "\n",
      "Putting $D_{r,0}$ back in\n",
      "\n",
      "$\\left[ I(\\theta) \\right]_{-\\pi}^\\pi = D_{r,0} \\dfrac{2 \\pi}{\\sqrt{1 - a^2}}$\n",
      "\n",
      "So angle probability distribution:\n",
      "\n",
      "$P(\\theta) = \\dfrac{D_r(\\theta)^{-1}}{\\left[ I(\\theta) \\right]_{-\\pi}^\\pi}$\n",
      "\n",
      "$P(\\theta) = D_{r,0} \\dfrac{\\sqrt{1 - a^2}}{2 \\pi} D_r(\\theta)^{-1}$\n",
      "\n",
      "$P(\\theta) = \\dfrac{\\sqrt{1 - a^2}}{2 \\pi} \\dfrac{1}{1 - a \\cos(\\theta)}$"
     ]
    },
    {
     "cell_type": "heading",
     "level": 1,
     "metadata": {},
     "source": [
      "Derive actual expression for drift speed"
     ]
    },
    {
     "cell_type": "markdown",
     "metadata": {},
     "source": [
      "Now to calculate the actual drift speed:\n",
      "\n",
      "$\\bar{v}_d = v \\int_{-\\pi}^{\\pi} P(\\theta) \\cos(\\theta) d\\theta$\n",
      "\n",
      "$\\bar{v}_d = v \\dfrac{\\sqrt{1 - a^2}}{2 \\pi} \\int_{-\\pi}^{\\pi} \\dfrac{\\cos(\\theta)}{1 - a \\cos(\\theta)} d\\theta$\n",
      "\n",
      "From Mathematica:\n",
      "\n",
      "$\\tilde{I}_d = \\int \\dfrac{\\cos(\\theta)}{1 - a \\cos(\\theta)} d\\theta = - \\dfrac{1}{a} \\left[ \\theta + \\dfrac{2 \\tanh^{-1} \\left( \\dfrac{(a + 1) \\tan \\left( \\dfrac{\\theta}{2}\\right)}{\\sqrt{a^2 - 1}} \\right)}{\\sqrt{a^2 - 1}}  \\right]$\n",
      "\n",
      "$\\bar{v}_d = v \\dfrac{\\sqrt{1 - a^2}}{2 \\pi D_{r,0}} \\left[ \\tilde{I}_d(\\theta) \\right]_{-\\pi}^\\pi$\n",
      "\n",
      "$\\left[ \\tilde{I}_d(\\theta) \\right]_{-\\pi}^\\pi = - \\dfrac{1}{a} \\left( \\left[ \\pi + \\dfrac{2 \\tanh^{-1} \\left( \\dfrac{(a + 1) \\tan \\left( \\dfrac{\\pi}{2}\\right)}{\\sqrt{a^2 - 1}} \\right)}{\\sqrt{a^2 - 1}}  \\right] - \\left[ -\\pi + \\dfrac{2 \\tanh^{-1} \\left( \\dfrac{(a + 1) \\tan \\left( \\dfrac{-\\pi}{2}\\right)}{\\sqrt{a^2 - 1}} \\right)}{\\sqrt{a^2 - 1}}  \\right] \\right)$\n",
      "\n",
      "$\\left[ \\tilde{I}_d(\\theta) \\right]_{-\\pi}^\\pi = - \\dfrac{2 \\pi}{a} - \\dfrac{2}{a \\sqrt{a^2 - 1}} \\left( \\tanh^{-1} \\left( \\dfrac{(a + 1) \\tan \\left( \\dfrac{\\pi}{2}\\right)}{\\sqrt{a^2 - 1}} \\right) - \\tanh^{-1} \\left( \\dfrac{(a + 1) \\tan \\left( \\dfrac{-\\pi}{2}\\right)}{\\sqrt{a^2 - 1}} \\right) \\right)$\n",
      "\n",
      "We know that $\\tan(-\\theta)=-\\tan(\\theta)$.\n",
      "\n",
      "$\\left[ \\tilde{I}_d(\\theta) \\right]_{-\\pi}^\\pi = - \\dfrac{2 \\pi}{a} - \\dfrac{2}{a \\sqrt{a^2 - 1}} \\left( \\tanh^{-1} \\left( \\dfrac{(a + 1) \\tan \\left( \\dfrac{\\pi}{2}\\right)}{\\sqrt{a^2 - 1}} \\right) - \\tanh^{-1} \\left( -\\dfrac{(a + 1) \\tan \\left( \\dfrac{\\pi}{2}\\right)}{\\sqrt{a^2 - 1}} \\right) \\right)$\n",
      "\n",
      "We also know that $\\tanh^{-1}(\\theta)=-\\tanh^{-1}(-\\theta)$.\n",
      "\n",
      "$\\left[ \\tilde{I}_d(\\theta) \\right]_{-\\pi}^\\pi = - \\dfrac{2 \\pi}{a} - \\dfrac{4}{a \\sqrt{a^2 - 1}} \\tanh^{-1} \\left( \\dfrac{(a + 1) \\tan \\left( \\dfrac{\\pi}{2}\\right)}{\\sqrt{a^2 - 1}} \\right)$\n",
      "\n",
      "We know that $\\tan(\\dfrac{\\pi}{2})=\\infty$, and that $\\tanh^{-1}(\\infty)=\\dfrac{-i \\pi}{2}$. I know this doesn't strictly follow, but I've checked it out empirically and it seems that:\n",
      "\n",
      "$\\tanh^{-1} \\left( \\dfrac{(a + 1) \\tan \\left( \\dfrac{\\pi}{2}\\right)}{\\sqrt{a^2 - 1}} \\right) = \\dfrac{-i \\pi}{2}$\n",
      "\n",
      "which means that:\n",
      "\n",
      "$\\left[ \\tilde{I}_d(\\theta) \\right]_{-\\pi}^\\pi = - \\dfrac{2 \\pi}{a} + \\dfrac{2 \\pi i}{a \\sqrt{a^2 - 1}}$\n",
      "\n",
      "$\\left[ \\tilde{I}_d(\\theta) \\right]_{-\\pi}^\\pi = 2 \\pi \\left(- \\dfrac{1}{a} + \\dfrac{i}{a \\sqrt{a^2 - 1}} \\right)$\n",
      "\n",
      "The square root on the bottom gives an $i$ since $a < 1$, so can reverse this and get rid of the explicit $i$:\n",
      "\n",
      "$\\left[ \\tilde{I}_d(\\theta) \\right]_{-\\pi}^\\pi = 2 \\pi \\left(\\dfrac{1}{a \\sqrt{1 - a^2}} - \\dfrac{1}{a} \\right)$\n",
      "\n",
      "Finally, this means that the drift speed is:\n",
      "\n",
      "$\\bar{v}_d = v \\dfrac{\\sqrt{1 - a^2}}{2 \\pi} 2 \\pi \\left(\\dfrac{1}{a \\sqrt{1 - a^2}} - \\dfrac{1}{a} \\right)$\n",
      "\n",
      "$\\bar{v}_d = v \\sqrt{1 - a^2} \\left(\\dfrac{1}{a \\sqrt{1 - a^2}} - \\dfrac{1}{a} \\right)$\n",
      "\n",
      "$\\bar{v}_d = v \\dfrac{1 - \\sqrt{1 - a^2}}{a}$\n",
      "\n",
      "This seems to have the correct form, according to graph.tk:\n",
      "\n",
      "- Only defined for $0 \\leq a < 1$\n",
      "- $\\bar{v}_d(a=1)=v$\n",
      "- $\\bar{v}_d(a=0)=0$\n",
      "\n",
      "It also matches my results."
     ]
    }
   ],
   "metadata": {}
  }
 ]
}