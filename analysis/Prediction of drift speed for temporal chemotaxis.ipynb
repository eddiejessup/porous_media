{
 "metadata": {
  "name": "",
  "signature": "sha256:1582e6540aef6b496b2f3c7a86b26bdbbad19e1d1aed998a43bfdd5a0f060294"
 },
 "nbformat": 3,
 "nbformat_minor": 0,
 "worksheets": [
  {
   "cells": [
    {
     "cell_type": "heading",
     "level": 1,
     "metadata": {},
     "source": [
      "Empirical determination of $P(\\theta)$"
     ]
    },
    {
     "cell_type": "markdown",
     "metadata": {},
     "source": [
      "By inspecting the distribution of angles for drift in a constant gradient at $\\chi > 0$, can find the temporal angle distribution, $P_t(\\theta)$.\n",
      "\n",
      "Find that it seems like $P_t(\\theta) \\propto \\dfrac{1}{D_r^{1/4}}$.\n",
      "\n",
      "In the spatial case, the fitness is instantaneously determined, so $f = f(\\theta)$.\n",
      "\n",
      "In the temporal case, $f = f(\\theta(t))$.\n",
      "\n",
      "We've normalised the calculation of $f$ so that if we call the temporal fitness $f_t$, and the spatial fitness $f_s$, then for $\\theta(t) = \\theta$, $f_s = f_t$.\n",
      "\n",
      "Anyway, if we know the form for $P(\\theta)$ as empirically determined, we can find a form for $\\bar{v}_d(\\chi)$.\n",
      "\n",
      "Here we go, time for maths!"
     ]
    },
    {
     "cell_type": "heading",
     "level": 1,
     "metadata": {},
     "source": [
      "Calculate $P(\\theta)$"
     ]
    },
    {
     "cell_type": "markdown",
     "metadata": {},
     "source": [
      "$P(\\theta) = \\dfrac{D_r(\\theta)^{-1/4}}{\\int_{-\\pi}^{\\pi} D_r(\\theta)^{-1/4} d\\theta}$\n",
      "\n",
      "$P(\\theta) = \\dfrac{D_r(\\theta)^{-1/4}}{\\left[I(\\theta)\\right]_{-\\pi}^\\pi}$\n",
      "\n",
      "$\\int_{-\\pi}^\\pi D_r(\\theta)^{-1/4} d\\theta = D_{r,0}^{-1/4} \\int_{-\\pi}^{\\pi} \\dfrac{d\\theta}{(1 - a \\cos(\\theta))^{1/4}}$\n",
      "\n"
     ]
    },
    {
     "cell_type": "markdown",
     "metadata": {},
     "source": [
      "Fuck it I've given up, the integral is horrific and involves the appell hypergeometric function or something. Instead integrate numerically."
     ]
    }
   ],
   "metadata": {}
  }
 ]
}